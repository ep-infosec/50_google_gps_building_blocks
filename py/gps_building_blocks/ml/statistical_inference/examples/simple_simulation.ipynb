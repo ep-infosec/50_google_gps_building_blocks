{
  "cells": [
    {
      "cell_type": "code",
      "execution_count": 1,
      "metadata": {
        "executionInfo": {
          "elapsed": 171,
          "status": "ok",
          "timestamp": 1615476153655,
          "user": {
            "displayName": "",
            "photoUrl": "",
            "userId": ""
          },
          "user_tz": 0
        },
        "id": "oel9ICRcA7mm"
      },
      "outputs": [],
      "source": [
        "# Copyright 2020 Google LLC\n",
        "#\n",
        "# Licensed under the Apache License, Version 2.0 (the \"License\");\n",
        "# you may not use this file except in compliance with the License.\n",
        "# You may obtain a copy of the License at\n",
        "#\n",
        "#      http://www.apache.org/licenses/LICENSE-2.0\n",
        "#\n",
        "# Unless required by applicable law or agreed to in writing, software\n",
        "# distributed under the License is distributed on an \"AS IS\" BASIS,\n",
        "# WITHOUT WARRANTIES OR CONDITIONS OF ANY KIND, either express or implied.\n",
        "# See the License for the specific language governing permissions and\n",
        "# limitations under the License."
      ]
    },
    {
      "cell_type": "code",
      "execution_count": 3,
      "metadata": {
        "executionInfo": {
          "elapsed": 48404,
          "status": "ok",
          "timestamp": 1615476211924,
          "user": {
            "displayName": "",
            "photoUrl": "",
            "userId": ""
          },
          "user_tz": 0
        },
        "id": "V-NaJIXUpwdK"
      },
      "outputs": [],
      "source": [
        "import pandas as pd\n",
        "import numpy as np\n",
        "\n",
        "from gps_building_blocks.ml.statistical_inference import data_preparation\n",
        "from gps_building_blocks.ml.statistical_inference import models"
      ]
    },
    {
      "cell_type": "markdown",
      "metadata": {
        "id": "D7scsM_mcVTD"
      },
      "source": [
        "# Simulate some data\n",
        "Let's create some random simulated data, where the target variables will be\n",
        "```\n",
        "y = var1 * 0.1 + var2 * 5.0 + var3 * -0.5 + e\n",
        "```\n",
        "To complicate the problems, we're going to add adding the following type of variables:\n",
        "\n",
        "* `constant`: Variable with no variation that carries no information.\n",
        "* `collinear`: Collinear variables which are highly correlated. In our example we'll have an highly correlated variable and an identical copy to `var2`.\n",
        "* `random`: Random variables with no relationship with the target variable."
      ]
    },
    {
      "cell_type": "code",
      "execution_count": 8,
      "metadata": {
        "executionInfo": {
          "elapsed": 222,
          "status": "ok",
          "timestamp": 1615476880834,
          "user": {
            "displayName": "",
            "photoUrl": "",
            "userId": ""
          },
          "user_tz": 0
        },
        "id": "M1DSGRetSNVr"
      },
      "outputs": [],
      "source": [
        "def _correlate(series: pd.Series, correlation_value: int, seed: int = 0):\n",
        "  \"\"\"Generates a correlated random variables from a given series.\"\"\"\n",
        "  # https://stats.stackexchange.com/questions/38856/how-to-generate-correlated-random-numbers-given-means-variances-and-degree-of\n",
        "  np.random.seed(seed)\n",
        "  value_error_term = 1 - correlation_value**2\n",
        "  error_terms = np.random.normal(0, value_error_term**0.5, len(series))\n",
        "  return series * correlation_value + error_terms\n",
        "\n",
        "\n",
        "np.random.seed(18)\n",
        "data = pd.DataFrame(np.random.normal(0, 1, (10000, 6)))\n",
        "data[0] = (data[0] \u003e= 0.0).astype(int)\n",
        "\n",
        "data['constant'] = 1\n",
        "data['var1'] = data[0]\n",
        "data['var2'] = data[1]\n",
        "data['var3'] = data[2]\n",
        "data['collinear_var2a'] = data['var2']\n",
        "data['collinear_var2b'] = _correlate(data['var2'], correlation_value=0.99)\n",
        "data['random1'] = data[3]\n",
        "data['random2'] = data[4]\n",
        "data['random3'] = data[5]\n",
        "data['target'] = (\n",
        "    data['var1'] * 0.1 +\n",
        "    data['var2'] * 5.0 +\n",
        "    data['var3'] * -0.5 +\n",
        "    (np.random.rand(len(data))-0.5) # Adding Noise\n",
        "    )"
      ]
    },
    {
      "cell_type": "markdown",
      "metadata": {
        "id": "fwYgDnJddmsh"
      },
      "source": [
        "## These are the `collinear` variables introduced and their relationship with `var2`.\n",
        "This show that `var2` and `collinear_var2a` are identical, while `var2` and `collinear_var2b` are highly correlated."
      ]
    },
    {
      "cell_type": "code",
      "execution_count": 9,
      "metadata": {
        "colab": {
          "height": 549
        },
        "executionInfo": {
          "elapsed": 754,
          "status": "ok",
          "timestamp": 1615476881951,
          "user": {
            "displayName": "",
            "photoUrl": "",
            "userId": ""
          },
          "user_tz": 0
        },
        "id": "xjmE6YmlbTKH",
        "outputId": "c11fa565-361c-48f1-dcd9-ae28842d8b48"
      },
      "outputs": [
        {
          "data": {
            "image/png": "[encoded data removed]",
            "text/plain": [
              "\u003cFigure size 600x400 with 1 Axes\u003e"
            ]
          },
          "metadata": {
            "tags": []
          },
          "output_type": "display_data"
        },
        {
          "data": {
            "image/png": "[encoded data removed]",
            "text/plain": [
              "\u003cFigure size 600x400 with 1 Axes\u003e"
            ]
          },
          "metadata": {
            "tags": []
          },
          "output_type": "display_data"
        }
      ],
      "source": [
        "_ = data.plot.scatter('var2', 'collinear_var2b')\n",
        "_ = data.plot.scatter('var2', 'collinear_var2a')"
      ]
    },
    {
      "cell_type": "markdown",
      "metadata": {
        "id": "X81lIHO8d3aO"
      },
      "source": [
        "# Modelling\n",
        "## Preparing our `InferenceData` container."
      ]
    },
    {
      "cell_type": "code",
      "execution_count": 18,
      "metadata": {
        "colab": {
          "height": 419
        },
        "executionInfo": {
          "elapsed": 254,
          "status": "ok",
          "timestamp": 1615477053938,
          "user": {
            "displayName": "",
            "photoUrl": "",
            "userId": ""
          },
          "user_tz": 0
        },
        "id": "J2E6MfZYSkky",
        "outputId": "e973182b-1736-4cf9-899e-32388bac0392"
      },
      "outputs": [
        {
          "data": {
            "text/html": [
              "\u003cdiv\u003e\n",
              "\u003cstyle scoped\u003e\n",
              "    .dataframe tbody tr th:only-of-type {\n",
              "        vertical-align: middle;\n",
              "    }\n",
              "\n",
              "    .dataframe tbody tr th {\n",
              "        vertical-align: top;\n",
              "    }\n",
              "\n",
              "    .dataframe thead th {\n",
              "        text-align: right;\n",
              "    }\n",
              "\u003c/style\u003e\n",
              "\u003ctable border=\"1\" class=\"dataframe\"\u003e\n",
              "  \u003cthead\u003e\n",
              "    \u003ctr style=\"text-align: right;\"\u003e\n",
              "      \u003cth\u003e\u003c/th\u003e\n",
              "      \u003cth\u003econstant\u003c/th\u003e\n",
              "      \u003cth\u003ecollinear_var2a\u003c/th\u003e\n",
              "      \u003cth\u003ecollinear_var2b\u003c/th\u003e\n",
              "      \u003cth\u003evar1\u003c/th\u003e\n",
              "      \u003cth\u003evar2\u003c/th\u003e\n",
              "      \u003cth\u003evar3\u003c/th\u003e\n",
              "      \u003cth\u003erandom1\u003c/th\u003e\n",
              "      \u003cth\u003erandom2\u003c/th\u003e\n",
              "      \u003cth\u003erandom3\u003c/th\u003e\n",
              "      \u003cth\u003etarget\u003c/th\u003e\n",
              "    \u003c/tr\u003e\n",
              "  \u003c/thead\u003e\n",
              "  \u003ctbody\u003e\n",
              "    \u003ctr\u003e\n",
              "      \u003cth\u003e0\u003c/th\u003e\n",
              "      \u003ctd\u003e1\u003c/td\u003e\n",
              "      \u003ctd\u003e2.190202\u003c/td\u003e\n",
              "      \u003ctd\u003e2.417151\u003c/td\u003e\n",
              "      \u003ctd\u003e1\u003c/td\u003e\n",
              "      \u003ctd\u003e2.190202\u003c/td\u003e\n",
              "      \u003ctd\u003e-0.134892\u003c/td\u003e\n",
              "      \u003ctd\u003e0.160518\u003c/td\u003e\n",
              "      \u003ctd\u003e0.442698\u003c/td\u003e\n",
              "      \u003ctd\u003e0.623391\u003c/td\u003e\n",
              "      \u003ctd\u003e10.714125\u003c/td\u003e\n",
              "    \u003c/tr\u003e\n",
              "    \u003ctr\u003e\n",
              "      \u003cth\u003e1\u003c/th\u003e\n",
              "      \u003ctd\u003e1\u003c/td\u003e\n",
              "      \u003ctd\u003e0.394249\u003c/td\u003e\n",
              "      \u003ctd\u003e0.446755\u003c/td\u003e\n",
              "      \u003ctd\u003e1\u003c/td\u003e\n",
              "      \u003ctd\u003e0.394249\u003c/td\u003e\n",
              "      \u003ctd\u003e-0.336387\u003c/td\u003e\n",
              "      \u003ctd\u003e-0.645906\u003c/td\u003e\n",
              "      \u003ctd\u003e0.805458\u003c/td\u003e\n",
              "      \u003ctd\u003e0.416443\u003c/td\u003e\n",
              "      \u003ctd\u003e2.141358\u003c/td\u003e\n",
              "    \u003c/tr\u003e\n",
              "    \u003ctr\u003e\n",
              "      \u003cth\u003e2\u003c/th\u003e\n",
              "      \u003ctd\u003e1\u003c/td\u003e\n",
              "      \u003ctd\u003e-1.101671\u003c/td\u003e\n",
              "      \u003ctd\u003e-0.952587\u003c/td\u003e\n",
              "      \u003ctd\u003e1\u003c/td\u003e\n",
              "      \u003ctd\u003e-1.101671\u003c/td\u003e\n",
              "      \u003ctd\u003e-0.994757\u003c/td\u003e\n",
              "      \u003ctd\u003e1.345519\u003c/td\u003e\n",
              "      \u003ctd\u003e0.581868\u003c/td\u003e\n",
              "      \u003ctd\u003e0.537239\u003c/td\u003e\n",
              "      \u003ctd\u003e-4.885428\u003c/td\u003e\n",
              "    \u003c/tr\u003e\n",
              "    \u003ctr\u003e\n",
              "      \u003cth\u003e3\u003c/th\u003e\n",
              "      \u003ctd\u003e1\u003c/td\u003e\n",
              "      \u003ctd\u003e-0.290324\u003c/td\u003e\n",
              "      \u003ctd\u003e0.028696\u003c/td\u003e\n",
              "      \u003ctd\u003e1\u003c/td\u003e\n",
              "      \u003ctd\u003e-0.290324\u003c/td\u003e\n",
              "      \u003ctd\u003e0.601365\u003c/td\u003e\n",
              "      \u003ctd\u003e-0.564527\u003c/td\u003e\n",
              "      \u003ctd\u003e-1.167952\u003c/td\u003e\n",
              "      \u003ctd\u003e-1.022002\u003c/td\u003e\n",
              "      \u003ctd\u003e-1.419971\u003c/td\u003e\n",
              "    \u003c/tr\u003e\n",
              "    \u003ctr\u003e\n",
              "      \u003cth\u003e4\u003c/th\u003e\n",
              "      \u003ctd\u003e1\u003c/td\u003e\n",
              "      \u003ctd\u003e-0.533744\u003c/td\u003e\n",
              "      \u003ctd\u003e-0.264956\u003c/td\u003e\n",
              "      \u003ctd\u003e1\u003c/td\u003e\n",
              "      \u003ctd\u003e-0.533744\u003c/td\u003e\n",
              "      \u003ctd\u003e-1.350432\u003c/td\u003e\n",
              "      \u003ctd\u003e0.230094\u003c/td\u003e\n",
              "      \u003ctd\u003e0.894855\u003c/td\u003e\n",
              "      \u003ctd\u003e1.370760\u003c/td\u003e\n",
              "      \u003ctd\u003e-2.258228\u003c/td\u003e\n",
              "    \u003c/tr\u003e\n",
              "    \u003ctr\u003e\n",
              "      \u003cth\u003e...\u003c/th\u003e\n",
              "      \u003ctd\u003e...\u003c/td\u003e\n",
              "      \u003ctd\u003e...\u003c/td\u003e\n",
              "      \u003ctd\u003e...\u003c/td\u003e\n",
              "      \u003ctd\u003e...\u003c/td\u003e\n",
              "      \u003ctd\u003e...\u003c/td\u003e\n",
              "      \u003ctd\u003e...\u003c/td\u003e\n",
              "      \u003ctd\u003e...\u003c/td\u003e\n",
              "      \u003ctd\u003e...\u003c/td\u003e\n",
              "      \u003ctd\u003e...\u003c/td\u003e\n",
              "      \u003ctd\u003e...\u003c/td\u003e\n",
              "    \u003c/tr\u003e\n",
              "    \u003ctr\u003e\n",
              "      \u003cth\u003e9995\u003c/th\u003e\n",
              "      \u003ctd\u003e1\u003c/td\u003e\n",
              "      \u003ctd\u003e0.014323\u003c/td\u003e\n",
              "      \u003ctd\u003e-0.241051\u003c/td\u003e\n",
              "      \u003ctd\u003e1\u003c/td\u003e\n",
              "      \u003ctd\u003e0.014323\u003c/td\u003e\n",
              "      \u003ctd\u003e1.665111\u003c/td\u003e\n",
              "      \u003ctd\u003e-1.017854\u003c/td\u003e\n",
              "      \u003ctd\u003e-1.210490\u003c/td\u003e\n",
              "      \u003ctd\u003e-0.471459\u003c/td\u003e\n",
              "      \u003ctd\u003e-0.910389\u003c/td\u003e\n",
              "    \u003c/tr\u003e\n",
              "    \u003ctr\u003e\n",
              "      \u003cth\u003e9996\u003c/th\u003e\n",
              "      \u003ctd\u003e1\u003c/td\u003e\n",
              "      \u003ctd\u003e-1.412006\u003c/td\u003e\n",
              "      \u003ctd\u003e-1.391911\u003c/td\u003e\n",
              "      \u003ctd\u003e0\u003c/td\u003e\n",
              "      \u003ctd\u003e-1.412006\u003c/td\u003e\n",
              "      \u003ctd\u003e-0.889559\u003c/td\u003e\n",
              "      \u003ctd\u003e0.286160\u003c/td\u003e\n",
              "      \u003ctd\u003e-0.717899\u003c/td\u003e\n",
              "      \u003ctd\u003e-0.185257\u003c/td\u003e\n",
              "      \u003ctd\u003e-6.616156\u003c/td\u003e\n",
              "    \u003c/tr\u003e\n",
              "    \u003ctr\u003e\n",
              "      \u003cth\u003e9997\u003c/th\u003e\n",
              "      \u003ctd\u003e1\u003c/td\u003e\n",
              "      \u003ctd\u003e-1.574446\u003c/td\u003e\n",
              "      \u003ctd\u003e-1.485788\u003c/td\u003e\n",
              "      \u003ctd\u003e1\u003c/td\u003e\n",
              "      \u003ctd\u003e-1.574446\u003c/td\u003e\n",
              "      \u003ctd\u003e-0.798709\u003c/td\u003e\n",
              "      \u003ctd\u003e0.159415\u003c/td\u003e\n",
              "      \u003ctd\u003e-0.751403\u003c/td\u003e\n",
              "      \u003ctd\u003e-1.884470\u003c/td\u003e\n",
              "      \u003ctd\u003e-7.731170\u003c/td\u003e\n",
              "    \u003c/tr\u003e\n",
              "    \u003ctr\u003e\n",
              "      \u003cth\u003e9998\u003c/th\u003e\n",
              "      \u003ctd\u003e1\u003c/td\u003e\n",
              "      \u003ctd\u003e0.178639\u003c/td\u003e\n",
              "      \u003ctd\u003e0.172208\u003c/td\u003e\n",
              "      \u003ctd\u003e0\u003c/td\u003e\n",
              "      \u003ctd\u003e0.178639\u003c/td\u003e\n",
              "      \u003ctd\u003e0.678814\u003c/td\u003e\n",
              "      \u003ctd\u003e-2.442013\u003c/td\u003e\n",
              "      \u003ctd\u003e-0.698395\u003c/td\u003e\n",
              "      \u003ctd\u003e0.538507\u003c/td\u003e\n",
              "      \u003ctd\u003e0.428577\u003c/td\u003e\n",
              "    \u003c/tr\u003e\n",
              "    \u003ctr\u003e\n",
              "      \u003cth\u003e9999\u003c/th\u003e\n",
              "      \u003ctd\u003e1\u003c/td\u003e\n",
              "      \u003ctd\u003e-1.222433\u003c/td\u003e\n",
              "      \u003ctd\u003e-1.027087\u003c/td\u003e\n",
              "      \u003ctd\u003e0\u003c/td\u003e\n",
              "      \u003ctd\u003e-1.222433\u003c/td\u003e\n",
              "      \u003ctd\u003e-1.605627\u003c/td\u003e\n",
              "      \u003ctd\u003e-0.610532\u003c/td\u003e\n",
              "      \u003ctd\u003e-0.653559\u003c/td\u003e\n",
              "      \u003ctd\u003e0.228353\u003c/td\u003e\n",
              "      \u003ctd\u003e-5.261692\u003c/td\u003e\n",
              "    \u003c/tr\u003e\n",
              "  \u003c/tbody\u003e\n",
              "\u003c/table\u003e\n",
              "\u003cp\u003e10000 rows × 10 columns\u003c/p\u003e\n",
              "\u003c/div\u003e"
            ],
            "text/plain": [
              "      constant  collinear_var2a  collinear_var2b  ...   random2   random3     target\n",
              "0            1         2.190202         2.417151  ...  0.442698  0.623391  10.714125\n",
              "1            1         0.394249         0.446755  ...  0.805458  0.416443   2.141358\n",
              "2            1        -1.101671        -0.952587  ...  0.581868  0.537239  -4.885428\n",
              "3            1        -0.290324         0.028696  ... -1.167952 -1.022002  -1.419971\n",
              "4            1        -0.533744        -0.264956  ...  0.894855  1.370760  -2.258228\n",
              "...        ...              ...              ...  ...       ...       ...        ...\n",
              "9995         1         0.014323        -0.241051  ... -1.210490 -0.471459  -0.910389\n",
              "9996         1        -1.412006        -1.391911  ... -0.717899 -0.185257  -6.616156\n",
              "9997         1        -1.574446        -1.485788  ... -0.751403 -1.884470  -7.731170\n",
              "9998         1         0.178639         0.172208  ... -0.698395  0.538507   0.428577\n",
              "9999         1        -1.222433        -1.027087  ... -0.653559  0.228353  -5.261692\n",
              "\n",
              "[10000 rows x 10 columns]"
            ]
          },
          "execution_count": 18,
          "metadata": {
            "tags": []
          },
          "output_type": "execute_result"
        }
      ],
      "source": [
        "inference_data = data_preparation.InferenceData(\n",
        "    initial_data=data[[\n",
        "        'constant',\n",
        "        'collinear_var2a', 'collinear_var2b',\n",
        "        'var1', 'var2', 'var3',\n",
        "        'random1', 'random2', 'random3',\n",
        "        'target'\n",
        "        ]],\n",
        "    target_column='target')\n",
        "inference_data.data"
      ]
    },
    {
      "cell_type": "markdown",
      "metadata": {
        "id": "-UDkPIBqeXC4"
      },
      "source": [
        "## Fitting a model with no data preparation.\n",
        "We can fit a model directly, setting the parameter `raise_on_data_error=False` to avoid `InferenceDataError` exception to be risen. This will skip any data check and you'll be notified with `InferenceDataWarning` warnings that some additionals step may be required before proceed with modelling."
      ]
    },
    {
      "cell_type": "markdown",
      "metadata": {
        "id": "vSKRHeEEgbI3"
      },
      "source": [
        "### Results\n",
        "These shows that the collinear variables are confounding when trying to recover the\n",
        "real effect. Also notice that a set of Warnings are triggered to inform you that the data was not prepared for modelling."
      ]
    },
    {
      "cell_type": "code",
      "execution_count": 19,
      "metadata": {
        "colab": {
          "height": 481
        },
        "executionInfo": {
          "elapsed": 249,
          "status": "ok",
          "timestamp": 1615477054683,
          "user": {
            "displayName": "",
            "photoUrl": "",
            "userId": ""
          },
          "user_tz": 0
        },
        "id": "2CaTaR7ZSknO",
        "outputId": "00e5bda9-5f23-4116-ce51-67094588ce62"
      },
      "outputs": [
        {
          "name": "stderr",
          "output_type": "stream",
          "text": [
            "/google_src/head/depot/google3/third_party/gps_building_blocks/py/ml/statistical_inference/data_preparation.py:345: ControlVariableWarning: The data is not controlling for external factors. Consider using `fixed_effect` indicating the columns to use as controlfor external factors.\n",
            "  warnings.warn(ControlVariableWarning(message))\n",
            "/google_src/head/depot/google3/third_party/gps_building_blocks/py/ml/statistical_inference/data_preparation.py:441: LowVarianceWarning: The data may contain columns with low variance. Consider using `address_low_variance` identifying the columns with lowvariance and whether to drop those.\n",
            "  warnings.warn(LowVarianceWarning(message))\n",
            "/google_src/head/depot/google3/third_party/gps_building_blocks/py/ml/statistical_inference/data_preparation.py:515: CollinearityWarning: The data may contain collinearity between covariates. Consider using `address_collinearity_with_vif` to identify columns that are collinear and whether to drop them.\n",
            "  warnings.warn(CollinearityWarning(message))\n"
          ]
        },
        {
          "data": {
            "text/html": [
              "\u003cdiv\u003e\n",
              "\u003cstyle scoped\u003e\n",
              "    .dataframe tbody tr th:only-of-type {\n",
              "        vertical-align: middle;\n",
              "    }\n",
              "\n",
              "    .dataframe tbody tr th {\n",
              "        vertical-align: top;\n",
              "    }\n",
              "\n",
              "    .dataframe thead th {\n",
              "        text-align: right;\n",
              "    }\n",
              "\u003c/style\u003e\n",
              "\u003ctable border=\"1\" class=\"dataframe\"\u003e\n",
              "  \u003cthead\u003e\n",
              "    \u003ctr style=\"text-align: right;\"\u003e\n",
              "      \u003cth\u003e\u003c/th\u003e\n",
              "      \u003cth\u003eeffect\u003c/th\u003e\n",
              "    \u003c/tr\u003e\n",
              "  \u003c/thead\u003e\n",
              "  \u003ctbody\u003e\n",
              "    \u003ctr\u003e\n",
              "      \u003cth\u003evar2\u003c/th\u003e\n",
              "      \u003ctd\u003e2.131860\u003c/td\u003e\n",
              "    \u003c/tr\u003e\n",
              "    \u003ctr\u003e\n",
              "      \u003cth\u003ecollinear_var2a\u003c/th\u003e\n",
              "      \u003ctd\u003e2.131860\u003c/td\u003e\n",
              "    \u003c/tr\u003e\n",
              "    \u003ctr\u003e\n",
              "      \u003cth\u003ecollinear_var2b\u003c/th\u003e\n",
              "      \u003ctd\u003e0.720692\u003c/td\u003e\n",
              "    \u003c/tr\u003e\n",
              "    \u003ctr\u003e\n",
              "      \u003cth\u003evar3\u003c/th\u003e\n",
              "      \u003ctd\u003e-0.496107\u003c/td\u003e\n",
              "    \u003c/tr\u003e\n",
              "    \u003ctr\u003e\n",
              "      \u003cth\u003evar1\u003c/th\u003e\n",
              "      \u003ctd\u003e0.101831\u003c/td\u003e\n",
              "    \u003c/tr\u003e\n",
              "    \u003ctr\u003e\n",
              "      \u003cth\u003erandom3\u003c/th\u003e\n",
              "      \u003ctd\u003e0.004408\u003c/td\u003e\n",
              "    \u003c/tr\u003e\n",
              "    \u003ctr\u003e\n",
              "      \u003cth\u003erandom1\u003c/th\u003e\n",
              "      \u003ctd\u003e0.002422\u003c/td\u003e\n",
              "    \u003c/tr\u003e\n",
              "    \u003ctr\u003e\n",
              "      \u003cth\u003eIntercept\u003c/th\u003e\n",
              "      \u003ctd\u003e0.000680\u003c/td\u003e\n",
              "    \u003c/tr\u003e\n",
              "    \u003ctr\u003e\n",
              "      \u003cth\u003erandom2\u003c/th\u003e\n",
              "      \u003ctd\u003e0.000433\u003c/td\u003e\n",
              "    \u003c/tr\u003e\n",
              "    \u003ctr\u003e\n",
              "      \u003cth\u003econstant\u003c/th\u003e\n",
              "      \u003ctd\u003e0.000000\u003c/td\u003e\n",
              "    \u003c/tr\u003e\n",
              "  \u003c/tbody\u003e\n",
              "\u003c/table\u003e\n",
              "\u003c/div\u003e"
            ],
            "text/plain": [
              "                   effect\n",
              "var2             2.131860\n",
              "collinear_var2a  2.131860\n",
              "collinear_var2b  0.720692\n",
              "var3            -0.496107\n",
              "var1             0.101831\n",
              "random3          0.004408\n",
              "random1          0.002422\n",
              "Intercept        0.000680\n",
              "random2          0.000433\n",
              "constant         0.000000"
            ]
          },
          "execution_count": 19,
          "metadata": {
            "tags": []
          },
          "output_type": "execute_result"
        }
      ],
      "source": [
        "naive_model = models.InferenceRidge(alpha=100)\n",
        "naive_model.fit(inference_data, raise_on_data_error=False)\n",
        "naive_model.get_results()[['effect']]"
      ]
    },
    {
      "cell_type": "markdown",
      "metadata": {
        "id": "mtJ8gov_3nZr"
      },
      "source": [
        "Reminding that our equaltion for `y` is\n",
        "\n",
        "```\n",
        "y = var1 * 0.1 + var2 * 5.0 + var3 * -0.5 + e\n",
        "```\n",
        "\n",
        "When looking at the recovered effect from our model assigned to variables `var2`, `collinear_var2a` and `collinear_var2b` aren't quiet right - this because they are multi-collinear. The expected `5.0` effect has been spread across all of them with different proportions.\n",
        "\n"
      ]
    },
    {
      "cell_type": "markdown",
      "metadata": {
        "id": "cGfkmcwlm-On"
      },
      "source": [
        "Note that a strong regularization has been used in the Ridge regression (`alpha=1000`) to emphatize the collinarity issue."
      ]
    },
    {
      "cell_type": "markdown",
      "metadata": {
        "id": "AoGysRuQfk-B"
      },
      "source": [
        "## Preparing the data correctly before fitting a model.\n",
        "Before modelling, we want to:\n",
        "\n",
        "* Remove low-variance variables, in our case the `constant` variable.\n",
        "* Remove collinear variables, in our case removing two the `var2`.\n",
        "\n",
        "Note that we should also control for external factors, which are not present in this example.\n",
        "\n",
        "### Data preparations steps in a flow-chart.\n",
        "The follow flow-chart summarizes the data preparation steps to make sure to minimize issues while attempting to recover the real effect."
      ]
    },
    {
      "cell_type": "markdown",
      "metadata": {
        "id": "2aerOrZK4yAM"
      },
      "source": [
        "![download.png](data:image/png;base64,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)"
      ]
    },
    {
      "cell_type": "markdown",
      "metadata": {
        "id": "gyH_tWuV5Ugw"
      },
      "source": [
        "### Addressing low variance variables\n",
        "The method `address_low_variance(threshold=0, drop=True)` in `InferenceData` identifies low variances variables and have an option to drop them. When variance threshold is zero, means the variable has no variation and is a constant value for all the observations.\n",
        "\n",
        "After running the method, the `constant` column in the `InferenceData` has been remove from the dataframe.\n"
      ]
    },
    {
      "cell_type": "code",
      "execution_count": 20,
      "metadata": {
        "colab": {
          "height": 419
        },
        "executionInfo": {
          "elapsed": 243,
          "status": "ok",
          "timestamp": 1615477055424,
          "user": {
            "displayName": "",
            "photoUrl": "",
            "userId": ""
          },
          "user_tz": 0
        },
        "id": "wK1LQe7jSkqB",
        "outputId": "2204481c-78a3-4f18-d4de-6c7902c5b045"
      },
      "outputs": [
        {
          "data": {
            "text/html": [
              "\u003cdiv\u003e\n",
              "\u003cstyle scoped\u003e\n",
              "    .dataframe tbody tr th:only-of-type {\n",
              "        vertical-align: middle;\n",
              "    }\n",
              "\n",
              "    .dataframe tbody tr th {\n",
              "        vertical-align: top;\n",
              "    }\n",
              "\n",
              "    .dataframe thead th {\n",
              "        text-align: right;\n",
              "    }\n",
              "\u003c/style\u003e\n",
              "\u003ctable border=\"1\" class=\"dataframe\"\u003e\n",
              "  \u003cthead\u003e\n",
              "    \u003ctr style=\"text-align: right;\"\u003e\n",
              "      \u003cth\u003e\u003c/th\u003e\n",
              "      \u003cth\u003ecollinear_var2a\u003c/th\u003e\n",
              "      \u003cth\u003ecollinear_var2b\u003c/th\u003e\n",
              "      \u003cth\u003evar1\u003c/th\u003e\n",
              "      \u003cth\u003evar2\u003c/th\u003e\n",
              "      \u003cth\u003evar3\u003c/th\u003e\n",
              "      \u003cth\u003erandom1\u003c/th\u003e\n",
              "      \u003cth\u003erandom2\u003c/th\u003e\n",
              "      \u003cth\u003erandom3\u003c/th\u003e\n",
              "      \u003cth\u003etarget\u003c/th\u003e\n",
              "    \u003c/tr\u003e\n",
              "  \u003c/thead\u003e\n",
              "  \u003ctbody\u003e\n",
              "    \u003ctr\u003e\n",
              "      \u003cth\u003e0\u003c/th\u003e\n",
              "      \u003ctd\u003e2.190202\u003c/td\u003e\n",
              "      \u003ctd\u003e2.417151\u003c/td\u003e\n",
              "      \u003ctd\u003e1\u003c/td\u003e\n",
              "      \u003ctd\u003e2.190202\u003c/td\u003e\n",
              "      \u003ctd\u003e-0.134892\u003c/td\u003e\n",
              "      \u003ctd\u003e0.160518\u003c/td\u003e\n",
              "      \u003ctd\u003e0.442698\u003c/td\u003e\n",
              "      \u003ctd\u003e0.623391\u003c/td\u003e\n",
              "      \u003ctd\u003e10.714125\u003c/td\u003e\n",
              "    \u003c/tr\u003e\n",
              "    \u003ctr\u003e\n",
              "      \u003cth\u003e1\u003c/th\u003e\n",
              "      \u003ctd\u003e0.394249\u003c/td\u003e\n",
              "      \u003ctd\u003e0.446755\u003c/td\u003e\n",
              "      \u003ctd\u003e1\u003c/td\u003e\n",
              "      \u003ctd\u003e0.394249\u003c/td\u003e\n",
              "      \u003ctd\u003e-0.336387\u003c/td\u003e\n",
              "      \u003ctd\u003e-0.645906\u003c/td\u003e\n",
              "      \u003ctd\u003e0.805458\u003c/td\u003e\n",
              "      \u003ctd\u003e0.416443\u003c/td\u003e\n",
              "      \u003ctd\u003e2.141358\u003c/td\u003e\n",
              "    \u003c/tr\u003e\n",
              "    \u003ctr\u003e\n",
              "      \u003cth\u003e2\u003c/th\u003e\n",
              "      \u003ctd\u003e-1.101671\u003c/td\u003e\n",
              "      \u003ctd\u003e-0.952587\u003c/td\u003e\n",
              "      \u003ctd\u003e1\u003c/td\u003e\n",
              "      \u003ctd\u003e-1.101671\u003c/td\u003e\n",
              "      \u003ctd\u003e-0.994757\u003c/td\u003e\n",
              "      \u003ctd\u003e1.345519\u003c/td\u003e\n",
              "      \u003ctd\u003e0.581868\u003c/td\u003e\n",
              "      \u003ctd\u003e0.537239\u003c/td\u003e\n",
              "      \u003ctd\u003e-4.885428\u003c/td\u003e\n",
              "    \u003c/tr\u003e\n",
              "    \u003ctr\u003e\n",
              "      \u003cth\u003e3\u003c/th\u003e\n",
              "      \u003ctd\u003e-0.290324\u003c/td\u003e\n",
              "      \u003ctd\u003e0.028696\u003c/td\u003e\n",
              "      \u003ctd\u003e1\u003c/td\u003e\n",
              "      \u003ctd\u003e-0.290324\u003c/td\u003e\n",
              "      \u003ctd\u003e0.601365\u003c/td\u003e\n",
              "      \u003ctd\u003e-0.564527\u003c/td\u003e\n",
              "      \u003ctd\u003e-1.167952\u003c/td\u003e\n",
              "      \u003ctd\u003e-1.022002\u003c/td\u003e\n",
              "      \u003ctd\u003e-1.419971\u003c/td\u003e\n",
              "    \u003c/tr\u003e\n",
              "    \u003ctr\u003e\n",
              "      \u003cth\u003e4\u003c/th\u003e\n",
              "      \u003ctd\u003e-0.533744\u003c/td\u003e\n",
              "      \u003ctd\u003e-0.264956\u003c/td\u003e\n",
              "      \u003ctd\u003e1\u003c/td\u003e\n",
              "      \u003ctd\u003e-0.533744\u003c/td\u003e\n",
              "      \u003ctd\u003e-1.350432\u003c/td\u003e\n",
              "      \u003ctd\u003e0.230094\u003c/td\u003e\n",
              "      \u003ctd\u003e0.894855\u003c/td\u003e\n",
              "      \u003ctd\u003e1.370760\u003c/td\u003e\n",
              "      \u003ctd\u003e-2.258228\u003c/td\u003e\n",
              "    \u003c/tr\u003e\n",
              "    \u003ctr\u003e\n",
              "      \u003cth\u003e...\u003c/th\u003e\n",
              "      \u003ctd\u003e...\u003c/td\u003e\n",
              "      \u003ctd\u003e...\u003c/td\u003e\n",
              "      \u003ctd\u003e...\u003c/td\u003e\n",
              "      \u003ctd\u003e...\u003c/td\u003e\n",
              "      \u003ctd\u003e...\u003c/td\u003e\n",
              "      \u003ctd\u003e...\u003c/td\u003e\n",
              "      \u003ctd\u003e...\u003c/td\u003e\n",
              "      \u003ctd\u003e...\u003c/td\u003e\n",
              "      \u003ctd\u003e...\u003c/td\u003e\n",
              "    \u003c/tr\u003e\n",
              "    \u003ctr\u003e\n",
              "      \u003cth\u003e9995\u003c/th\u003e\n",
              "      \u003ctd\u003e0.014323\u003c/td\u003e\n",
              "      \u003ctd\u003e-0.241051\u003c/td\u003e\n",
              "      \u003ctd\u003e1\u003c/td\u003e\n",
              "      \u003ctd\u003e0.014323\u003c/td\u003e\n",
              "      \u003ctd\u003e1.665111\u003c/td\u003e\n",
              "      \u003ctd\u003e-1.017854\u003c/td\u003e\n",
              "      \u003ctd\u003e-1.210490\u003c/td\u003e\n",
              "      \u003ctd\u003e-0.471459\u003c/td\u003e\n",
              "      \u003ctd\u003e-0.910389\u003c/td\u003e\n",
              "    \u003c/tr\u003e\n",
              "    \u003ctr\u003e\n",
              "      \u003cth\u003e9996\u003c/th\u003e\n",
              "      \u003ctd\u003e-1.412006\u003c/td\u003e\n",
              "      \u003ctd\u003e-1.391911\u003c/td\u003e\n",
              "      \u003ctd\u003e0\u003c/td\u003e\n",
              "      \u003ctd\u003e-1.412006\u003c/td\u003e\n",
              "      \u003ctd\u003e-0.889559\u003c/td\u003e\n",
              "      \u003ctd\u003e0.286160\u003c/td\u003e\n",
              "      \u003ctd\u003e-0.717899\u003c/td\u003e\n",
              "      \u003ctd\u003e-0.185257\u003c/td\u003e\n",
              "      \u003ctd\u003e-6.616156\u003c/td\u003e\n",
              "    \u003c/tr\u003e\n",
              "    \u003ctr\u003e\n",
              "      \u003cth\u003e9997\u003c/th\u003e\n",
              "      \u003ctd\u003e-1.574446\u003c/td\u003e\n",
              "      \u003ctd\u003e-1.485788\u003c/td\u003e\n",
              "      \u003ctd\u003e1\u003c/td\u003e\n",
              "      \u003ctd\u003e-1.574446\u003c/td\u003e\n",
              "      \u003ctd\u003e-0.798709\u003c/td\u003e\n",
              "      \u003ctd\u003e0.159415\u003c/td\u003e\n",
              "      \u003ctd\u003e-0.751403\u003c/td\u003e\n",
              "      \u003ctd\u003e-1.884470\u003c/td\u003e\n",
              "      \u003ctd\u003e-7.731170\u003c/td\u003e\n",
              "    \u003c/tr\u003e\n",
              "    \u003ctr\u003e\n",
              "      \u003cth\u003e9998\u003c/th\u003e\n",
              "      \u003ctd\u003e0.178639\u003c/td\u003e\n",
              "      \u003ctd\u003e0.172208\u003c/td\u003e\n",
              "      \u003ctd\u003e0\u003c/td\u003e\n",
              "      \u003ctd\u003e0.178639\u003c/td\u003e\n",
              "      \u003ctd\u003e0.678814\u003c/td\u003e\n",
              "      \u003ctd\u003e-2.442013\u003c/td\u003e\n",
              "      \u003ctd\u003e-0.698395\u003c/td\u003e\n",
              "      \u003ctd\u003e0.538507\u003c/td\u003e\n",
              "      \u003ctd\u003e0.428577\u003c/td\u003e\n",
              "    \u003c/tr\u003e\n",
              "    \u003ctr\u003e\n",
              "      \u003cth\u003e9999\u003c/th\u003e\n",
              "      \u003ctd\u003e-1.222433\u003c/td\u003e\n",
              "      \u003ctd\u003e-1.027087\u003c/td\u003e\n",
              "      \u003ctd\u003e0\u003c/td\u003e\n",
              "      \u003ctd\u003e-1.222433\u003c/td\u003e\n",
              "      \u003ctd\u003e-1.605627\u003c/td\u003e\n",
              "      \u003ctd\u003e-0.610532\u003c/td\u003e\n",
              "      \u003ctd\u003e-0.653559\u003c/td\u003e\n",
              "      \u003ctd\u003e0.228353\u003c/td\u003e\n",
              "      \u003ctd\u003e-5.261692\u003c/td\u003e\n",
              "    \u003c/tr\u003e\n",
              "  \u003c/tbody\u003e\n",
              "\u003c/table\u003e\n",
              "\u003cp\u003e10000 rows × 9 columns\u003c/p\u003e\n",
              "\u003c/div\u003e"
            ],
            "text/plain": [
              "      collinear_var2a  collinear_var2b  var1  ...   random2   random3     target\n",
              "0            2.190202         2.417151     1  ...  0.442698  0.623391  10.714125\n",
              "1            0.394249         0.446755     1  ...  0.805458  0.416443   2.141358\n",
              "2           -1.101671        -0.952587     1  ...  0.581868  0.537239  -4.885428\n",
              "3           -0.290324         0.028696     1  ... -1.167952 -1.022002  -1.419971\n",
              "4           -0.533744        -0.264956     1  ...  0.894855  1.370760  -2.258228\n",
              "...               ...              ...   ...  ...       ...       ...        ...\n",
              "9995         0.014323        -0.241051     1  ... -1.210490 -0.471459  -0.910389\n",
              "9996        -1.412006        -1.391911     0  ... -0.717899 -0.185257  -6.616156\n",
              "9997        -1.574446        -1.485788     1  ... -0.751403 -1.884470  -7.731170\n",
              "9998         0.178639         0.172208     0  ... -0.698395  0.538507   0.428577\n",
              "9999        -1.222433        -1.027087     0  ... -0.653559  0.228353  -5.261692\n",
              "\n",
              "[10000 rows x 9 columns]"
            ]
          },
          "execution_count": 20,
          "metadata": {
            "tags": []
          },
          "output_type": "execute_result"
        }
      ],
      "source": [
        "inference_data.address_low_variance(threshold=0, drop=True)"
      ]
    },
    {
      "cell_type": "markdown",
      "metadata": {
        "id": "2Xovnp1u6gUS"
      },
      "source": [
        "### Addressing Collinearity with Variance Inflation Factor (VIF)\n",
        "In the example above, collinear columns are interfering with recovering the real effect. The method `address_collinearity_with_vif(address_collinearity_with_vif(vif_method='sequential', vif_threshold=10, drop=True)` uses [VIF](https://en.wikipedia.org/wiki/Variance_inflation_factor). to identify columns that are collinear and option to drop them and retain only one."
      ]
    },
    {
      "cell_type": "code",
      "execution_count": 21,
      "metadata": {
        "colab": {
          "height": 456
        },
        "executionInfo": {
          "elapsed": 312,
          "status": "ok",
          "timestamp": 1615477055977,
          "user": {
            "displayName": "",
            "photoUrl": "",
            "userId": ""
          },
          "user_tz": 0
        },
        "id": "7a_z7L2iUXNp",
        "outputId": "7bb2efa4-e0fa-4d92-acdd-b5dd34673dff"
      },
      "outputs": [
        {
          "name": "stderr",
          "output_type": "stream",
          "text": [
            "/export/hda3/borglet/remote_hdd_fs_dirs/0.gps-ds-colab-amariani.kernel.amariani.537839141998.14b334fb3717c109/mount/server/ds_colab.par/google3/third_party/py/statsmodels/stats/outliers_influence.py:193: RuntimeWarning: divide by zero encountered in double_scalars\n"
          ]
        },
        {
          "data": {
            "text/html": [
              "\u003cdiv\u003e\n",
              "\u003cstyle scoped\u003e\n",
              "    .dataframe tbody tr th:only-of-type {\n",
              "        vertical-align: middle;\n",
              "    }\n",
              "\n",
              "    .dataframe tbody tr th {\n",
              "        vertical-align: top;\n",
              "    }\n",
              "\n",
              "    .dataframe thead th {\n",
              "        text-align: right;\n",
              "    }\n",
              "\u003c/style\u003e\n",
              "\u003ctable border=\"1\" class=\"dataframe\"\u003e\n",
              "  \u003cthead\u003e\n",
              "    \u003ctr style=\"text-align: right;\"\u003e\n",
              "      \u003cth\u003e\u003c/th\u003e\n",
              "      \u003cth\u003ecollinear_var2b\u003c/th\u003e\n",
              "      \u003cth\u003evar1\u003c/th\u003e\n",
              "      \u003cth\u003evar3\u003c/th\u003e\n",
              "      \u003cth\u003erandom1\u003c/th\u003e\n",
              "      \u003cth\u003erandom2\u003c/th\u003e\n",
              "      \u003cth\u003erandom3\u003c/th\u003e\n",
              "      \u003cth\u003etarget\u003c/th\u003e\n",
              "    \u003c/tr\u003e\n",
              "  \u003c/thead\u003e\n",
              "  \u003ctbody\u003e\n",
              "    \u003ctr\u003e\n",
              "      \u003cth\u003e0\u003c/th\u003e\n",
              "      \u003ctd\u003e2.417151\u003c/td\u003e\n",
              "      \u003ctd\u003e1\u003c/td\u003e\n",
              "      \u003ctd\u003e-0.134892\u003c/td\u003e\n",
              "      \u003ctd\u003e0.160518\u003c/td\u003e\n",
              "      \u003ctd\u003e0.442698\u003c/td\u003e\n",
              "      \u003ctd\u003e0.623391\u003c/td\u003e\n",
              "      \u003ctd\u003e10.714125\u003c/td\u003e\n",
              "    \u003c/tr\u003e\n",
              "    \u003ctr\u003e\n",
              "      \u003cth\u003e1\u003c/th\u003e\n",
              "      \u003ctd\u003e0.446755\u003c/td\u003e\n",
              "      \u003ctd\u003e1\u003c/td\u003e\n",
              "      \u003ctd\u003e-0.336387\u003c/td\u003e\n",
              "      \u003ctd\u003e-0.645906\u003c/td\u003e\n",
              "      \u003ctd\u003e0.805458\u003c/td\u003e\n",
              "      \u003ctd\u003e0.416443\u003c/td\u003e\n",
              "      \u003ctd\u003e2.141358\u003c/td\u003e\n",
              "    \u003c/tr\u003e\n",
              "    \u003ctr\u003e\n",
              "      \u003cth\u003e2\u003c/th\u003e\n",
              "      \u003ctd\u003e-0.952587\u003c/td\u003e\n",
              "      \u003ctd\u003e1\u003c/td\u003e\n",
              "      \u003ctd\u003e-0.994757\u003c/td\u003e\n",
              "      \u003ctd\u003e1.345519\u003c/td\u003e\n",
              "      \u003ctd\u003e0.581868\u003c/td\u003e\n",
              "      \u003ctd\u003e0.537239\u003c/td\u003e\n",
              "      \u003ctd\u003e-4.885428\u003c/td\u003e\n",
              "    \u003c/tr\u003e\n",
              "    \u003ctr\u003e\n",
              "      \u003cth\u003e3\u003c/th\u003e\n",
              "      \u003ctd\u003e0.028696\u003c/td\u003e\n",
              "      \u003ctd\u003e1\u003c/td\u003e\n",
              "      \u003ctd\u003e0.601365\u003c/td\u003e\n",
              "      \u003ctd\u003e-0.564527\u003c/td\u003e\n",
              "      \u003ctd\u003e-1.167952\u003c/td\u003e\n",
              "      \u003ctd\u003e-1.022002\u003c/td\u003e\n",
              "      \u003ctd\u003e-1.419971\u003c/td\u003e\n",
              "    \u003c/tr\u003e\n",
              "    \u003ctr\u003e\n",
              "      \u003cth\u003e4\u003c/th\u003e\n",
              "      \u003ctd\u003e-0.264956\u003c/td\u003e\n",
              "      \u003ctd\u003e1\u003c/td\u003e\n",
              "      \u003ctd\u003e-1.350432\u003c/td\u003e\n",
              "      \u003ctd\u003e0.230094\u003c/td\u003e\n",
              "      \u003ctd\u003e0.894855\u003c/td\u003e\n",
              "      \u003ctd\u003e1.370760\u003c/td\u003e\n",
              "      \u003ctd\u003e-2.258228\u003c/td\u003e\n",
              "    \u003c/tr\u003e\n",
              "    \u003ctr\u003e\n",
              "      \u003cth\u003e...\u003c/th\u003e\n",
              "      \u003ctd\u003e...\u003c/td\u003e\n",
              "      \u003ctd\u003e...\u003c/td\u003e\n",
              "      \u003ctd\u003e...\u003c/td\u003e\n",
              "      \u003ctd\u003e...\u003c/td\u003e\n",
              "      \u003ctd\u003e...\u003c/td\u003e\n",
              "      \u003ctd\u003e...\u003c/td\u003e\n",
              "      \u003ctd\u003e...\u003c/td\u003e\n",
              "    \u003c/tr\u003e\n",
              "    \u003ctr\u003e\n",
              "      \u003cth\u003e9995\u003c/th\u003e\n",
              "      \u003ctd\u003e-0.241051\u003c/td\u003e\n",
              "      \u003ctd\u003e1\u003c/td\u003e\n",
              "      \u003ctd\u003e1.665111\u003c/td\u003e\n",
              "      \u003ctd\u003e-1.017854\u003c/td\u003e\n",
              "      \u003ctd\u003e-1.210490\u003c/td\u003e\n",
              "      \u003ctd\u003e-0.471459\u003c/td\u003e\n",
              "      \u003ctd\u003e-0.910389\u003c/td\u003e\n",
              "    \u003c/tr\u003e\n",
              "    \u003ctr\u003e\n",
              "      \u003cth\u003e9996\u003c/th\u003e\n",
              "      \u003ctd\u003e-1.391911\u003c/td\u003e\n",
              "      \u003ctd\u003e0\u003c/td\u003e\n",
              "      \u003ctd\u003e-0.889559\u003c/td\u003e\n",
              "      \u003ctd\u003e0.286160\u003c/td\u003e\n",
              "      \u003ctd\u003e-0.717899\u003c/td\u003e\n",
              "      \u003ctd\u003e-0.185257\u003c/td\u003e\n",
              "      \u003ctd\u003e-6.616156\u003c/td\u003e\n",
              "    \u003c/tr\u003e\n",
              "    \u003ctr\u003e\n",
              "      \u003cth\u003e9997\u003c/th\u003e\n",
              "      \u003ctd\u003e-1.485788\u003c/td\u003e\n",
              "      \u003ctd\u003e1\u003c/td\u003e\n",
              "      \u003ctd\u003e-0.798709\u003c/td\u003e\n",
              "      \u003ctd\u003e0.159415\u003c/td\u003e\n",
              "      \u003ctd\u003e-0.751403\u003c/td\u003e\n",
              "      \u003ctd\u003e-1.884470\u003c/td\u003e\n",
              "      \u003ctd\u003e-7.731170\u003c/td\u003e\n",
              "    \u003c/tr\u003e\n",
              "    \u003ctr\u003e\n",
              "      \u003cth\u003e9998\u003c/th\u003e\n",
              "      \u003ctd\u003e0.172208\u003c/td\u003e\n",
              "      \u003ctd\u003e0\u003c/td\u003e\n",
              "      \u003ctd\u003e0.678814\u003c/td\u003e\n",
              "      \u003ctd\u003e-2.442013\u003c/td\u003e\n",
              "      \u003ctd\u003e-0.698395\u003c/td\u003e\n",
              "      \u003ctd\u003e0.538507\u003c/td\u003e\n",
              "      \u003ctd\u003e0.428577\u003c/td\u003e\n",
              "    \u003c/tr\u003e\n",
              "    \u003ctr\u003e\n",
              "      \u003cth\u003e9999\u003c/th\u003e\n",
              "      \u003ctd\u003e-1.027087\u003c/td\u003e\n",
              "      \u003ctd\u003e0\u003c/td\u003e\n",
              "      \u003ctd\u003e-1.605627\u003c/td\u003e\n",
              "      \u003ctd\u003e-0.610532\u003c/td\u003e\n",
              "      \u003ctd\u003e-0.653559\u003c/td\u003e\n",
              "      \u003ctd\u003e0.228353\u003c/td\u003e\n",
              "      \u003ctd\u003e-5.261692\u003c/td\u003e\n",
              "    \u003c/tr\u003e\n",
              "  \u003c/tbody\u003e\n",
              "\u003c/table\u003e\n",
              "\u003cp\u003e10000 rows × 7 columns\u003c/p\u003e\n",
              "\u003c/div\u003e"
            ],
            "text/plain": [
              "      collinear_var2b  var1      var3   random1   random2   random3     target\n",
              "0            2.417151     1 -0.134892  0.160518  0.442698  0.623391  10.714125\n",
              "1            0.446755     1 -0.336387 -0.645906  0.805458  0.416443   2.141358\n",
              "2           -0.952587     1 -0.994757  1.345519  0.581868  0.537239  -4.885428\n",
              "3            0.028696     1  0.601365 -0.564527 -1.167952 -1.022002  -1.419971\n",
              "4           -0.264956     1 -1.350432  0.230094  0.894855  1.370760  -2.258228\n",
              "...               ...   ...       ...       ...       ...       ...        ...\n",
              "9995        -0.241051     1  1.665111 -1.017854 -1.210490 -0.471459  -0.910389\n",
              "9996        -1.391911     0 -0.889559  0.286160 -0.717899 -0.185257  -6.616156\n",
              "9997        -1.485788     1 -0.798709  0.159415 -0.751403 -1.884470  -7.731170\n",
              "9998         0.172208     0  0.678814 -2.442013 -0.698395  0.538507   0.428577\n",
              "9999        -1.027087     0 -1.605627 -0.610532 -0.653559  0.228353  -5.261692\n",
              "\n",
              "[10000 rows x 7 columns]"
            ]
          },
          "execution_count": 21,
          "metadata": {
            "tags": []
          },
          "output_type": "execute_result"
        }
      ],
      "source": [
        "inference_data.address_collinearity_with_vif(vif_method='sequential',\n",
        "                                             vif_threshold=10,\n",
        "                                             drop=True)"
      ]
    },
    {
      "cell_type": "markdown",
      "metadata": {
        "id": "1QdO2qHx8bON"
      },
      "source": [
        "Collinearity is always tricky to address, the options usually are:\n",
        "* Iteratively eliminate collinear variables one at time until collinearity is removed\n",
        "* Create casual graphs to map dependencies between variables and include one per collinear group\n",
        "* Remove all collinear variables\n",
        "\n",
        "In our example `var2`, `collinear_var2a` and `collinear_var2b` are all collinear with each others. We've decided to went for option one and because the elimination process in VIF is random, `collinear_var2b` was selected. Unfortunately, there is no way know that `var2` should be retain instead of `collinear_var2b` with this approach."
      ]
    },
    {
      "cell_type": "markdown",
      "metadata": {
        "id": "4x1tmVKigWo6"
      },
      "source": [
        "### Results\n",
        "\n",
        "With data better suited for recovering the real effects, these are more much closer to the real one. Fitting bootstrap and permutation test will also give you tools to reject or accept theses."
      ]
    },
    {
      "cell_type": "code",
      "execution_count": 22,
      "metadata": {
        "colab": {
          "height": 320
        },
        "executionInfo": {
          "elapsed": 234,
          "status": "ok",
          "timestamp": 1615477060019,
          "user": {
            "displayName": "",
            "photoUrl": "",
            "userId": ""
          },
          "user_tz": 0
        },
        "id": "1XAq_lbzSksI",
        "outputId": "72ab4a66-00ba-4672-b726-2bfe3e5eafe4"
      },
      "outputs": [
        {
          "name": "stderr",
          "output_type": "stream",
          "text": [
            "/google_src/head/depot/google3/third_party/gps_building_blocks/py/ml/statistical_inference/data_preparation.py:345: ControlVariableWarning: The data is not controlling for external factors. Consider using `fixed_effect` indicating the columns to use as controlfor external factors.\n",
            "  warnings.warn(ControlVariableWarning(message))\n"
          ]
        },
        {
          "data": {
            "text/html": [
              "\u003cdiv\u003e\n",
              "\u003cstyle scoped\u003e\n",
              "    .dataframe tbody tr th:only-of-type {\n",
              "        vertical-align: middle;\n",
              "    }\n",
              "\n",
              "    .dataframe tbody tr th {\n",
              "        vertical-align: top;\n",
              "    }\n",
              "\n",
              "    .dataframe thead th {\n",
              "        text-align: right;\n",
              "    }\n",
              "\u003c/style\u003e\n",
              "\u003ctable border=\"1\" class=\"dataframe\"\u003e\n",
              "  \u003cthead\u003e\n",
              "    \u003ctr style=\"text-align: right;\"\u003e\n",
              "      \u003cth\u003e\u003c/th\u003e\n",
              "      \u003cth\u003eeffect\u003c/th\u003e\n",
              "    \u003c/tr\u003e\n",
              "  \u003c/thead\u003e\n",
              "  \u003ctbody\u003e\n",
              "    \u003ctr\u003e\n",
              "      \u003cth\u003ecollinear_var2b\u003c/th\u003e\n",
              "      \u003ctd\u003e4.904334\u003c/td\u003e\n",
              "    \u003c/tr\u003e\n",
              "    \u003ctr\u003e\n",
              "      \u003cth\u003evar3\u003c/th\u003e\n",
              "      \u003ctd\u003e-0.482256\u003c/td\u003e\n",
              "    \u003c/tr\u003e\n",
              "    \u003ctr\u003e\n",
              "      \u003cth\u003evar1\u003c/th\u003e\n",
              "      \u003ctd\u003e0.104903\u003c/td\u003e\n",
              "    \u003c/tr\u003e\n",
              "    \u003ctr\u003e\n",
              "      \u003cth\u003eIntercept\u003c/th\u003e\n",
              "      \u003ctd\u003e0.010774\u003c/td\u003e\n",
              "    \u003c/tr\u003e\n",
              "    \u003ctr\u003e\n",
              "      \u003cth\u003erandom1\u003c/th\u003e\n",
              "      \u003ctd\u003e0.009313\u003c/td\u003e\n",
              "    \u003c/tr\u003e\n",
              "    \u003ctr\u003e\n",
              "      \u003cth\u003erandom3\u003c/th\u003e\n",
              "      \u003ctd\u003e0.007440\u003c/td\u003e\n",
              "    \u003c/tr\u003e\n",
              "    \u003ctr\u003e\n",
              "      \u003cth\u003erandom2\u003c/th\u003e\n",
              "      \u003ctd\u003e0.003916\u003c/td\u003e\n",
              "    \u003c/tr\u003e\n",
              "  \u003c/tbody\u003e\n",
              "\u003c/table\u003e\n",
              "\u003c/div\u003e"
            ],
            "text/plain": [
              "                   effect\n",
              "collinear_var2b  4.904334\n",
              "var3            -0.482256\n",
              "var1             0.104903\n",
              "Intercept        0.010774\n",
              "random1          0.009313\n",
              "random3          0.007440\n",
              "random2          0.003916"
            ]
          },
          "execution_count": 22,
          "metadata": {
            "tags": []
          },
          "output_type": "execute_result"
        }
      ],
      "source": [
        "less_naive_model = models.InferenceRidge(alpha=100)\n",
        "less_naive_model.fit(inference_data, raise_on_data_error=False)\n",
        "less_naive_model.get_results()[['effect']]"
      ]
    },
    {
      "cell_type": "markdown",
      "metadata": {
        "id": "NfbeIS6_66O1"
      },
      "source": [
        "Reminding that our equaltion for `y` is\n",
        "\n",
        "```\n",
        "y = var1 * 0.1 + var2 * 5.0 + var3 * -0.5 + e\n",
        "```\n",
        "\n",
        "When looking at the recovered effect `collinear_var2b`, this is much closer to what it's supposed to be.\n",
        "\n"
      ]
    },
    {
      "cell_type": "code",
      "execution_count": 23,
      "metadata": {
        "colab": {
          "height": 266
        },
        "executionInfo": {
          "elapsed": 332,
          "status": "ok",
          "timestamp": 1615477063784,
          "user": {
            "displayName": "",
            "photoUrl": "",
            "userId": ""
          },
          "user_tz": 0
        },
        "id": "7oviwr8KDSrQ",
        "outputId": "753641ad-62fc-477d-84db-b64e8af141d9"
      },
      "outputs": [
        {
          "data": {
            "text/html": [
              "\u003cdiv\u003e\n",
              "\u003cstyle scoped\u003e\n",
              "    .dataframe tbody tr th:only-of-type {\n",
              "        vertical-align: middle;\n",
              "    }\n",
              "\n",
              "    .dataframe tbody tr th {\n",
              "        vertical-align: top;\n",
              "    }\n",
              "\n",
              "    .dataframe thead th {\n",
              "        text-align: right;\n",
              "    }\n",
              "\u003c/style\u003e\n",
              "\u003ctable border=\"1\" class=\"dataframe\"\u003e\n",
              "  \u003cthead\u003e\n",
              "    \u003ctr style=\"text-align: right;\"\u003e\n",
              "      \u003cth\u003e\u003c/th\u003e\n",
              "      \u003cth\u003eeffect\u003c/th\u003e\n",
              "      \u003cth\u003ebootstrap_std\u003c/th\u003e\n",
              "      \u003cth\u003ebootstrap_interval\u003c/th\u003e\n",
              "      \u003cth\u003esignificant_bootstrap\u003c/th\u003e\n",
              "      \u003cth\u003esignificant_permutation\u003c/th\u003e\n",
              "    \u003c/tr\u003e\n",
              "  \u003c/thead\u003e\n",
              "  \u003ctbody\u003e\n",
              "    \u003ctr\u003e\n",
              "      \u003cth\u003ecollinear_var2b\u003c/th\u003e\n",
              "      \u003ctd\u003e4.904590\u003c/td\u003e\n",
              "      \u003ctd\u003e0.007783\u003c/td\u003e\n",
              "      \u003ctd\u003e0.012801\u003c/td\u003e\n",
              "      \u003ctd\u003eTrue\u003c/td\u003e\n",
              "      \u003ctd\u003eNaN\u003c/td\u003e\n",
              "    \u003c/tr\u003e\n",
              "    \u003ctr\u003e\n",
              "      \u003cth\u003evar3\u003c/th\u003e\n",
              "      \u003ctd\u003e-0.480768\u003c/td\u003e\n",
              "      \u003ctd\u003e0.007996\u003c/td\u003e\n",
              "      \u003ctd\u003e0.013151\u003c/td\u003e\n",
              "      \u003ctd\u003eTrue\u003c/td\u003e\n",
              "      \u003ctd\u003eNaN\u003c/td\u003e\n",
              "    \u003c/tr\u003e\n",
              "    \u003ctr\u003e\n",
              "      \u003cth\u003evar1\u003c/th\u003e\n",
              "      \u003ctd\u003e0.106630\u003c/td\u003e\n",
              "      \u003ctd\u003e0.014915\u003c/td\u003e\n",
              "      \u003ctd\u003e0.024534\u003c/td\u003e\n",
              "      \u003ctd\u003eTrue\u003c/td\u003e\n",
              "      \u003ctd\u003eNaN\u003c/td\u003e\n",
              "    \u003c/tr\u003e\n",
              "    \u003ctr\u003e\n",
              "      \u003cth\u003eIntercept\u003c/th\u003e\n",
              "      \u003ctd\u003e0.011219\u003c/td\u003e\n",
              "      \u003ctd\u003e0.011013\u003c/td\u003e\n",
              "      \u003ctd\u003e0.018115\u003c/td\u003e\n",
              "      \u003ctd\u003eFalse\u003c/td\u003e\n",
              "      \u003ctd\u003eNaN\u003c/td\u003e\n",
              "    \u003c/tr\u003e\n",
              "    \u003ctr\u003e\n",
              "      \u003cth\u003erandom1\u003c/th\u003e\n",
              "      \u003ctd\u003e0.010441\u003c/td\u003e\n",
              "      \u003ctd\u003e0.007204\u003c/td\u003e\n",
              "      \u003ctd\u003e0.011850\u003c/td\u003e\n",
              "      \u003ctd\u003eFalse\u003c/td\u003e\n",
              "      \u003ctd\u003eNaN\u003c/td\u003e\n",
              "    \u003c/tr\u003e\n",
              "    \u003ctr\u003e\n",
              "      \u003cth\u003erandom3\u003c/th\u003e\n",
              "      \u003ctd\u003e0.007660\u003c/td\u003e\n",
              "      \u003ctd\u003e0.007228\u003c/td\u003e\n",
              "      \u003ctd\u003e0.011889\u003c/td\u003e\n",
              "      \u003ctd\u003eFalse\u003c/td\u003e\n",
              "      \u003ctd\u003eNaN\u003c/td\u003e\n",
              "    \u003c/tr\u003e\n",
              "    \u003ctr\u003e\n",
              "      \u003cth\u003erandom2\u003c/th\u003e\n",
              "      \u003ctd\u003e0.003331\u003c/td\u003e\n",
              "      \u003ctd\u003e0.007919\u003c/td\u003e\n",
              "      \u003ctd\u003e0.013025\u003c/td\u003e\n",
              "      \u003ctd\u003eFalse\u003c/td\u003e\n",
              "      \u003ctd\u003eNaN\u003c/td\u003e\n",
              "    \u003c/tr\u003e\n",
              "  \u003c/tbody\u003e\n",
              "\u003c/table\u003e\n",
              "\u003c/div\u003e"
            ],
            "text/plain": [
              "                   effect  ...  significant_permutation\n",
              "collinear_var2b  4.904590  ...                      NaN\n",
              "var3            -0.480768  ...                      NaN\n",
              "var1             0.106630  ...                      NaN\n",
              "Intercept        0.011219  ...                      NaN\n",
              "random1          0.010441  ...                      NaN\n",
              "random3          0.007660  ...                      NaN\n",
              "random2          0.003331  ...                      NaN\n",
              "\n",
              "[7 rows x 5 columns]"
            ]
          },
          "execution_count": 23,
          "metadata": {
            "tags": []
          },
          "output_type": "execute_result"
        }
      ],
      "source": [
        "less_naive_model.fit_bootstrap(50, n_jobs=1, verbose=False)\n",
        "less_naive_model.get_results()"
      ]
    },
    {
      "cell_type": "code",
      "execution_count": 16,
      "metadata": {
        "colab": {
          "height": 266
        },
        "executionInfo": {
          "elapsed": 369,
          "status": "ok",
          "timestamp": 1615476885008,
          "user": {
            "displayName": "",
            "photoUrl": "",
            "userId": ""
          },
          "user_tz": 0
        },
        "id": "QB7nIhy1tb2R",
        "outputId": "e227139b-a340-4222-fdb7-72e7dcdba446"
      },
      "outputs": [
        {
          "data": {
            "text/html": [
              "\u003cdiv\u003e\n",
              "\u003cstyle scoped\u003e\n",
              "    .dataframe tbody tr th:only-of-type {\n",
              "        vertical-align: middle;\n",
              "    }\n",
              "\n",
              "    .dataframe tbody tr th {\n",
              "        vertical-align: top;\n",
              "    }\n",
              "\n",
              "    .dataframe thead th {\n",
              "        text-align: right;\n",
              "    }\n",
              "\u003c/style\u003e\n",
              "\u003ctable border=\"1\" class=\"dataframe\"\u003e\n",
              "  \u003cthead\u003e\n",
              "    \u003ctr style=\"text-align: right;\"\u003e\n",
              "      \u003cth\u003e\u003c/th\u003e\n",
              "      \u003cth\u003eeffect\u003c/th\u003e\n",
              "      \u003cth\u003ebootstrap_std\u003c/th\u003e\n",
              "      \u003cth\u003ebootstrap_interval\u003c/th\u003e\n",
              "      \u003cth\u003esignificant_bootstrap\u003c/th\u003e\n",
              "      \u003cth\u003esignificant_permutation\u003c/th\u003e\n",
              "    \u003c/tr\u003e\n",
              "  \u003c/thead\u003e\n",
              "  \u003ctbody\u003e\n",
              "    \u003ctr\u003e\n",
              "      \u003cth\u003ecollinear_var2b\u003c/th\u003e\n",
              "      \u003ctd\u003e4.904590\u003c/td\u003e\n",
              "      \u003ctd\u003e0.007783\u003c/td\u003e\n",
              "      \u003ctd\u003e0.012801\u003c/td\u003e\n",
              "      \u003ctd\u003eTrue\u003c/td\u003e\n",
              "      \u003ctd\u003eTrue\u003c/td\u003e\n",
              "    \u003c/tr\u003e\n",
              "    \u003ctr\u003e\n",
              "      \u003cth\u003evar3\u003c/th\u003e\n",
              "      \u003ctd\u003e-0.480768\u003c/td\u003e\n",
              "      \u003ctd\u003e0.007996\u003c/td\u003e\n",
              "      \u003ctd\u003e0.013151\u003c/td\u003e\n",
              "      \u003ctd\u003eTrue\u003c/td\u003e\n",
              "      \u003ctd\u003eTrue\u003c/td\u003e\n",
              "    \u003c/tr\u003e\n",
              "    \u003ctr\u003e\n",
              "      \u003cth\u003evar1\u003c/th\u003e\n",
              "      \u003ctd\u003e0.106630\u003c/td\u003e\n",
              "      \u003ctd\u003e0.014915\u003c/td\u003e\n",
              "      \u003ctd\u003e0.024534\u003c/td\u003e\n",
              "      \u003ctd\u003eTrue\u003c/td\u003e\n",
              "      \u003ctd\u003eFalse\u003c/td\u003e\n",
              "    \u003c/tr\u003e\n",
              "    \u003ctr\u003e\n",
              "      \u003cth\u003eIntercept\u003c/th\u003e\n",
              "      \u003ctd\u003e0.011219\u003c/td\u003e\n",
              "      \u003ctd\u003e0.011013\u003c/td\u003e\n",
              "      \u003ctd\u003e0.018115\u003c/td\u003e\n",
              "      \u003ctd\u003eFalse\u003c/td\u003e\n",
              "      \u003ctd\u003eFalse\u003c/td\u003e\n",
              "    \u003c/tr\u003e\n",
              "    \u003ctr\u003e\n",
              "      \u003cth\u003erandom1\u003c/th\u003e\n",
              "      \u003ctd\u003e0.010441\u003c/td\u003e\n",
              "      \u003ctd\u003e0.007204\u003c/td\u003e\n",
              "      \u003ctd\u003e0.011850\u003c/td\u003e\n",
              "      \u003ctd\u003eFalse\u003c/td\u003e\n",
              "      \u003ctd\u003eFalse\u003c/td\u003e\n",
              "    \u003c/tr\u003e\n",
              "    \u003ctr\u003e\n",
              "      \u003cth\u003erandom3\u003c/th\u003e\n",
              "      \u003ctd\u003e0.007660\u003c/td\u003e\n",
              "      \u003ctd\u003e0.007228\u003c/td\u003e\n",
              "      \u003ctd\u003e0.011889\u003c/td\u003e\n",
              "      \u003ctd\u003eFalse\u003c/td\u003e\n",
              "      \u003ctd\u003eFalse\u003c/td\u003e\n",
              "    \u003c/tr\u003e\n",
              "    \u003ctr\u003e\n",
              "      \u003cth\u003erandom2\u003c/th\u003e\n",
              "      \u003ctd\u003e0.003331\u003c/td\u003e\n",
              "      \u003ctd\u003e0.007919\u003c/td\u003e\n",
              "      \u003ctd\u003e0.013025\u003c/td\u003e\n",
              "      \u003ctd\u003eFalse\u003c/td\u003e\n",
              "      \u003ctd\u003eFalse\u003c/td\u003e\n",
              "    \u003c/tr\u003e\n",
              "  \u003c/tbody\u003e\n",
              "\u003c/table\u003e\n",
              "\u003c/div\u003e"
            ],
            "text/plain": [
              "                   effect  ...  significant_permutation\n",
              "collinear_var2b  4.904590  ...                     True\n",
              "var3            -0.480768  ...                     True\n",
              "var1             0.106630  ...                    False\n",
              "Intercept        0.011219  ...                    False\n",
              "random1          0.010441  ...                    False\n",
              "random3          0.007660  ...                    False\n",
              "random2          0.003331  ...                    False\n",
              "\n",
              "[7 rows x 5 columns]"
            ]
          },
          "execution_count": 16,
          "metadata": {
            "tags": []
          },
          "output_type": "execute_result"
        }
      ],
      "source": [
        "less_naive_model.permutation_test(50, n_jobs=1, verbose=False)\n",
        "less_naive_model.get_results()"
      ]
    },
    {
      "cell_type": "code",
      "execution_count": 16,
      "metadata": {
        "executionInfo": {
          "elapsed": 206,
          "status": "ok",
          "timestamp": 1615476885222,
          "user": {
            "displayName": "",
            "photoUrl": "",
            "userId": ""
          },
          "user_tz": 0
        },
        "id": "CTU0ueDqpP_z"
      },
      "outputs": [],
      "source": [
        ""
      ]
    }
  ],
  "metadata": {
    "colab": {
      "collapsed_sections": [],
      "last_runtime": {
        "build_target": "//corp/gtech/ads/infrastructure/colab_utils/ds_runtime:ds_colab",
        "kind": "private"
      },
      "name": "simple_simulation.ipynb",
      "provenance": [
        {
          "file_id": "/piper/depot/google3/third_party/gps_building_blocks/py/ml/statistical_inference/examples/simple_simulation.ipynb",
          "timestamp": 1615475796043
        },
        {
          "file_id": "1InaKxr0YFOCAHtTPmDXYNTOGslffWnwe",
          "timestamp": 1610621834032
        }
      ],
      "toc_visible": true
    },
    "kernelspec": {
      "display_name": "Python 3",
      "name": "python3"
    }
  },
  "nbformat": 4,
  "nbformat_minor": 0
}
